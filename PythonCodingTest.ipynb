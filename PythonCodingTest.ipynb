{
 "cells": [
  {
   "cell_type": "markdown",
   "id": "07eb1628-2865-48ac-9594-57acadc321b3",
   "metadata": {},
   "source": [
    "- https://lnkd.in/eaC5hfaa\n",
    "- https://lnkd.in/ehe5VFQV\n",
    "- https://lnkd.in/eMbrw8Yh\n",
    "- https://lnkd.in/eg2hEzD6\n",
    "- https://lnkd.in/ejY9ed3R\n",
    "- https://lnkd.in/eNP8geMw\n",
    "- https://lnkd.in/emY_RaxM\n",
    "- https://lnkd.in/ezSHZtkP\n",
    "- https://lnkd.in/eAkbPfjb\n",
    "- https://lnkd.in/ekAsN67R\n",
    "- https://lnkd.in/ecMuhNRJ\n",
    "- https://lnkd.in/eTs6dnYr\n",
    "- https://lnkd.in/efvkpvJ8\n",
    "- https://lnkd.in/ezh6Fv9J\n",
    "- https://lnkd.in/eH9TRvDa\n",
    "- https://lnkd.in/eqFsYNWq\n",
    "- https://lnkd.in/esPPaCR3\n",
    "- https://lnkd.in/eTkmSn3U\n",
    "- https://lnkd.in/eE8-JaeA\n",
    "- https://lnkd.in/eBGSbNYE\n",
    "- https://lnkd.in/eMj3jsbn\n",
    "- https://lnkd.in/eyHQGZKv\n",
    "- https://lnkd.in/eibujp7h\n",
    "- https://lnkd.in/e6kgR36n\n",
    "- https://lnkd.in/e8SrnqxQ\n",
    "- https://lnkd.in/eqCrQet7\n",
    "- https://lnkd.in/eSfxgqgz\n",
    "- https://lnkd.in/eMmfBeUq\n",
    "- https://lnkd.in/ecAkWpBm\n",
    "- https://lnkd.in/eW8p6v7c\n",
    "- https://lnkd.in/etdM6dnU\n",
    "- https://lnkd.in/eZyt94bt\n",
    "- https://lnkd.in/eurUPNth\n",
    "- https://lnkd.in/e6s5eXfj\n",
    "- https://lnkd.in/e7deX-a5\n",
    "- https://lnkd.in/em7ii5xg\n",
    "- https://lnkd.in/eh7_Syhi\n",
    "- https://lnkd.in/ezYSt2tm\n",
    "- https://lnkd.in/efS5nVPG\n",
    "- https://lnkd.in/eSJevkrt\n",
    "- https://lnkd.in/eQ7Kt-x7\n",
    "- https://lnkd.in/ek7CXVAW\n",
    "- https://lnkd.in/exbwhtV4\n",
    "- https://lnkd.in/eCENY7B7\n",
    "- https://lnkd.in/eXRF6huD\n",
    "- https://lnkd.in/eiKedG8D\n",
    "- https://lnkd.in/ep-iFw4f\n",
    "- https://lnkd.in/eKg_QSm3\n",
    "- https://lnkd.in/e32MME4r\n",
    "- https://lnkd.in/eQUatjPt"
   ]
  },
  {
   "cell_type": "markdown",
   "id": "dd9f8377-6842-4172-94eb-30fc2eee60dc",
   "metadata": {},
   "source": [
    "###  Given an array of integers nums and an integer target, return indices of the two numbers such that they add up to target.\r",
    "### \r\n",
    "You may assume that each input would have exactly one solution, and you may not use the same element twice### \r\n",
    "\r\n",
    "You can return the answer in any or\n",
    "\n",
    "Example 1:\r\n",
    "\r\n",
    "Input: nums = [2,7,11,15], target = 9\r\n",
    "Output: [0,1]\r\n",
    "Explanation: Because nums[0] + nums[1] == 9, we return [0, 1].der."
   ]
  },
  {
   "cell_type": "code",
   "execution_count": null,
   "id": "52abcc38-cf15-4a81-be68-1423f6893cc0",
   "metadata": {},
   "outputs": [],
   "source": []
  },
  {
   "cell_type": "code",
   "execution_count": 29,
   "id": "8eb38e39-0377-4ff7-b0cf-d0e5e1525c1f",
   "metadata": {},
   "outputs": [
    {
     "name": "stdout",
     "output_type": "stream",
     "text": [
      "[0, 3]\n"
     ]
    }
   ],
   "source": [
    "nums = [2,7,11,15]\n",
    "target = 17\n",
    "def sum_check(nums,target):\n",
    "    for i in range(len(nums)):\n",
    "        for j in range(i+1, len(nums)):\n",
    "            if nums[i] + nums[j] == target:\n",
    "                first_val = nums.index(nums[i])\n",
    "                second_val = nums.index(nums[j])\n",
    "                print([first_val,second_val])\n",
    "\n",
    "sum_check(nums,target)"
   ]
  },
  {
   "cell_type": "code",
   "execution_count": 31,
   "id": "828833d4-ed14-42de-bd7f-e55dcecedb1d",
   "metadata": {},
   "outputs": [
    {
     "name": "stdout",
     "output_type": "stream",
     "text": [
      "[1, 3]\n"
     ]
    }
   ],
   "source": [
    "nums = [2,6,1,4]\n",
    "target = 10\n",
    "\n",
    "sum_check(nums,target)"
   ]
  },
  {
   "cell_type": "markdown",
   "id": "770874e7-bc83-431d-95d6-8c97c9869e9e",
   "metadata": {},
   "source": [
    "# Maximum Subarray\n",
    "### Given an integer array nums, find the \n",
    "subarra\r\n",
    " with the largest sum, and return its suargest sum 23.m."
   ]
  },
  {
   "cell_type": "markdown",
   "id": "3f07ca87-3ae7-44a1-980a-5f24bf615b17",
   "metadata": {},
   "source": [
    "### Example 1:\n",
    "Input: nums = [-2,1,-3,4,-1,2,1,-5,4] Output: 6\n",
    "Explanation: The subarray [4,-1,2,1] has the largest sum 6.\n",
    "\n",
    "### Example 2:\n",
    "Input: nums = [1] Output: 1\n",
    "Explanation: The subarray [1] has the largest sum 1.\n",
    "\n",
    "### Example 3:\n",
    "Input: nums = [5,4,-1,7,8] Output: 23\n",
    "Explanation: The subarray [5,4,-1,7,8] has the largest sum 23."
   ]
  },
  {
   "cell_type": "code",
   "execution_count": 99,
   "id": "ec2cb451-0533-4d90-920c-85c196890cc2",
   "metadata": {},
   "outputs": [
    {
     "name": "stdout",
     "output_type": "stream",
     "text": [
      "[4, 2, 1, -1]\n"
     ]
    }
   ],
   "source": [
    "nums = [-2,1,-3,4,-1,2,1,-5,4]\n",
    "def max_subarray(nums):\n",
    "    sorted_list = list(set(sorted(nums)))\n",
    "    positv_num = [i for i in sorted_list if i > 0]\n",
    "    neg_num = [i for i in sorted_list if i and i < 0]\n",
    "    final_list = positv_num + [neg_num[0]]\n",
    "    return sorted(final_list, reverse=True)\n",
    "print(max_subarray(nums))"
   ]
  },
  {
   "cell_type": "code",
   "execution_count": 95,
   "id": "915aec0c-11f2-4f86-9bbd-ac620d078d6a",
   "metadata": {
    "scrolled": true
   },
   "outputs": [
    {
     "ename": "IndexError",
     "evalue": "list index out of range",
     "output_type": "error",
     "traceback": [
      "\u001b[1;31m---------------------------------------------------------------------------\u001b[0m",
      "\u001b[1;31mIndexError\u001b[0m                                Traceback (most recent call last)",
      "Cell \u001b[1;32mIn[95], line 2\u001b[0m\n\u001b[0;32m      1\u001b[0m nums \u001b[38;5;241m=\u001b[39m [\u001b[38;5;241m1\u001b[39m]\n\u001b[1;32m----> 2\u001b[0m \u001b[38;5;28mprint\u001b[39m(max_subarray(nums))\n",
      "Cell \u001b[1;32mIn[93], line 6\u001b[0m, in \u001b[0;36mmax_subarray\u001b[1;34m(nums)\u001b[0m\n\u001b[0;32m      4\u001b[0m positv_num \u001b[38;5;241m=\u001b[39m [i \u001b[38;5;28;01mfor\u001b[39;00m i \u001b[38;5;129;01min\u001b[39;00m sorted_list \u001b[38;5;28;01mif\u001b[39;00m i \u001b[38;5;241m>\u001b[39m \u001b[38;5;241m0\u001b[39m]\n\u001b[0;32m      5\u001b[0m neg_num \u001b[38;5;241m=\u001b[39m [i \u001b[38;5;28;01mfor\u001b[39;00m i \u001b[38;5;129;01min\u001b[39;00m sorted_list \u001b[38;5;28;01mif\u001b[39;00m i \u001b[38;5;129;01mand\u001b[39;00m i \u001b[38;5;241m<\u001b[39m \u001b[38;5;241m0\u001b[39m]\n\u001b[1;32m----> 6\u001b[0m final_list \u001b[38;5;241m=\u001b[39m positv_num \u001b[38;5;241m+\u001b[39m [neg_num[\u001b[38;5;241m0\u001b[39m]]\n\u001b[0;32m      7\u001b[0m \u001b[38;5;28;01mreturn\u001b[39;00m \u001b[38;5;28msorted\u001b[39m(final_list, reverse\u001b[38;5;241m=\u001b[39m\u001b[38;5;28;01mTrue\u001b[39;00m)\n",
      "\u001b[1;31mIndexError\u001b[0m: list index out of range"
     ]
    }
   ],
   "source": [
    "nums = [1]\n",
    "print(max_subarray(nums))"
   ]
  },
  {
   "cell_type": "code",
   "execution_count": 101,
   "id": "5f1c8968-f184-4f67-95f7-d2b74b62e45d",
   "metadata": {},
   "outputs": [
    {
     "name": "stdout",
     "output_type": "stream",
     "text": [
      "[8, 7, 5, 4, -1]\n"
     ]
    }
   ],
   "source": [
    "nums = [5,4,-1,7,8]\n",
    "print(max_subarray(nums))"
   ]
  },
  {
   "cell_type": "markdown",
   "id": "e72889fc-5647-4415-9e53-14bf9196cc85",
   "metadata": {},
   "source": [
    "# Best Time to Buy and Sell Stock"
   ]
  },
  {
   "cell_type": "markdown",
   "id": "7e59a1e5-44e1-4f5c-b0cf-4cffbee4013d",
   "metadata": {},
   "source": [
    "You are given an array prices where prices[i] is the price of a given stock on the ith day.\r\n",
    "\r\n",
    "You want to maximize your profit by choosing a single day to buy one stock and choosing a different day in the future to sell that stock.\r\n",
    "\r\n",
    "Return the maximum profit you can achieve from this transaction. If you cannot achieve any profit, return 0.\r\n",
    "\r\n",
    " \r\n",
    "\r\n",
    "Example 1:\r\n",
    "\r\n",
    "Input: prices = [7,1,5,3,6,4]\r\n",
    "Output: 5\r\n",
    "Explanation: Buy on day 2 (price = 1) and sell on day 5 (price = 6), profit = 6-1 = 5.\r\n",
    "Note that buying on day 2 and selling on day 1 is not allowed because you must buy before you sell."
   ]
  },
  {
   "cell_type": "markdown",
   "id": "7b2112ae-1375-4ba5-bb05-7ec7defabc8e",
   "metadata": {},
   "source": [
    "https://leetcode.com/problems/best-time-to-buy-and-sell-stock/description/"
   ]
  },
  {
   "cell_type": "code",
   "execution_count": 115,
   "id": "626c4759-4acd-49e4-9272-66e9c5863e64",
   "metadata": {},
   "outputs": [
    {
     "name": "stdout",
     "output_type": "stream",
     "text": [
      "The buy day should be day 2 and sell day should be day 5 so that max profit could be 5\n"
     ]
    }
   ],
   "source": [
    "prices = [7,1,5,3,6,4]\n",
    "def Best2Sell(prices):\n",
    "    sell_day = max(prices[1:])\n",
    "    buy_day = min(prices)\n",
    "    return print(f\"The buy day should be day {prices.index(buy_day)+1 } and sell day should be day {prices.index(sell_day)+1} so that max profit could be {sell_day - buy_day}\")\n",
    "Best2Sell(prices)    "
   ]
  },
  {
   "cell_type": "markdown",
   "id": "6bec7b2f-677e-46d7-9c92-65f10a997c02",
   "metadata": {},
   "source": [
    "# Reverse Linked List"
   ]
  },
  {
   "cell_type": "markdown",
   "id": "9c88aa55-ec6d-4251-b8c8-f3be05848c7d",
   "metadata": {},
   "source": [
    "Given the head of a singly linked list, reverse the list, and return the reversed list.\n",
    "\n",
    "Example 1:\n",
    "\n",
    "Input: head = [1,2,3,4,5]\n",
    "Output: [5,4,3,2,1]"
   ]
  },
  {
   "cell_type": "markdown",
   "id": "391b799c-b77d-4a59-aa8c-9214ed904d6d",
   "metadata": {},
   "source": [
    "https://leetcode.com/problems/reverse-linked-list/description/"
   ]
  },
  {
   "cell_type": "code",
   "execution_count": 125,
   "id": "c9923470-48c3-4f16-8278-fc4a26b8f1fb",
   "metadata": {},
   "outputs": [
    {
     "data": {
      "text/plain": [
       "[5, 4, 3, 2, 1]"
      ]
     },
     "execution_count": 125,
     "metadata": {},
     "output_type": "execute_result"
    }
   ],
   "source": [
    "head = [1,2,3,4,5]\n",
    "def reverse_list(head):\n",
    "    return head[::-1]\n",
    "reverse_list(head)"
   ]
  },
  {
   "cell_type": "markdown",
   "id": "3f3dc660-1db4-48a9-926f-c1a3753c5597",
   "metadata": {},
   "source": [
    "# Merge Two Sorted Lists"
   ]
  },
  {
   "cell_type": "markdown",
   "id": "1e63b1ef-d320-4456-b8b5-d890b85e1ece",
   "metadata": {},
   "source": [
    "You are given the heads of two sorted linked lists list1 and list2.\n",
    "\n",
    "Merge the two lists into one sorted list. The list should be made by splicing together the nodes of the first two lists.\n",
    "\n",
    "Return the head of the merged linked list\n",
    "Input: list1 = [1,2,4], list2 = [1,3,4]\n",
    "Output: [1,1,2,3,4,4]"
   ]
  },
  {
   "cell_type": "markdown",
   "id": "b60ded89-2c79-4328-9c3b-7a4e70645464",
   "metadata": {},
   "source": [
    "https://leetcode.com/problems/merge-two-sorted-lists/description/"
   ]
  },
  {
   "cell_type": "code",
   "execution_count": 170,
   "id": "f68fe3be-28ee-4b69-bb21-9b4df421fa1a",
   "metadata": {},
   "outputs": [
    {
     "data": {
      "text/plain": [
       "[1, 1, 2, 3, 4, 4]"
      ]
     },
     "execution_count": 170,
     "metadata": {},
     "output_type": "execute_result"
    }
   ],
   "source": [
    "list1 = [1,2,4]\n",
    "list2 = [1,3,4]\n",
    "#list3 = []\n",
    "def merge_list(list1,list2):\n",
    "    new_list = list(zip(list1,list2))\n",
    "    list3 = []\n",
    "    for i in new_list:\n",
    "        list3.extend(list(i))\n",
    "    if len(list1) > len(list2):\n",
    "        list3.extend(list1[len(list2):])\n",
    "    elif len(list2) > len(list1):\n",
    "        list3.extend(list2[len(list1):])\n",
    "    return list3\n",
    "\n",
    "merge_list(list1,list2)"
   ]
  },
  {
   "cell_type": "code",
   "execution_count": 172,
   "id": "4d4a395a-0fb9-423e-af4f-9f090925e22b",
   "metadata": {},
   "outputs": [
    {
     "data": {
      "text/plain": [
       "[1, 2, 3, 4, 5, 6]"
      ]
     },
     "execution_count": 172,
     "metadata": {},
     "output_type": "execute_result"
    }
   ],
   "source": [
    "list1 = [1,3,5]\n",
    "list2 = [2,4,6]\n",
    "merge_list(list1,list2)"
   ]
  },
  {
   "cell_type": "code",
   "execution_count": 174,
   "id": "bf166a79-abd0-4f11-8a2a-0021cb4f177e",
   "metadata": {},
   "outputs": [
    {
     "data": {
      "text/plain": [
       "[0]"
      ]
     },
     "execution_count": 174,
     "metadata": {},
     "output_type": "execute_result"
    }
   ],
   "source": [
    "list1 = []\n",
    "list2 = [0]\n",
    "merge_list(list1,list2)"
   ]
  },
  {
   "cell_type": "code",
   "execution_count": 176,
   "id": "900c2462-f03d-403c-b4d8-bd4d77c07144",
   "metadata": {},
   "outputs": [
    {
     "data": {
      "text/plain": [
       "[]"
      ]
     },
     "execution_count": 176,
     "metadata": {},
     "output_type": "execute_result"
    }
   ],
   "source": [
    "list1 = []\n",
    "list2 = []\n",
    "merge_list(list1,list2)"
   ]
  },
  {
   "cell_type": "markdown",
   "id": "b4fd6ac9-494a-4a25-97a4-9e934505962b",
   "metadata": {},
   "source": [
    "## Palindrome Linked List"
   ]
  },
  {
   "cell_type": "markdown",
   "id": "71adab31-0a9c-45a4-abf2-ddf7580d860c",
   "metadata": {},
   "source": [
    "Given the head of a singly linked list, return true if it is a palindrome or false otherwise."
   ]
  },
  {
   "cell_type": "markdown",
   "id": "1cae9d3d-f08b-46b1-b113-68937351befd",
   "metadata": {},
   "source": [
    "Input: head = [1,2,2,1]\n",
    "Output: true\n",
    "\n",
    "Input: head = [1,2]\n",
    "Output: false"
   ]
  },
  {
   "cell_type": "code",
   "execution_count": 6,
   "id": "fbb9b573-50ca-4f8e-b4c6-e0c88ef9e3d1",
   "metadata": {},
   "outputs": [
    {
     "data": {
      "text/plain": [
       "True"
      ]
     },
     "execution_count": 6,
     "metadata": {},
     "output_type": "execute_result"
    }
   ],
   "source": [
    "l = [1,2,2,1]\n",
    "def check_palindrome(l):\n",
    "    if l == l[::-1]:\n",
    "        result = True\n",
    "    else:\n",
    "        result = False\n",
    "    return result\n",
    "check_palindrome(l)"
   ]
  },
  {
   "cell_type": "code",
   "execution_count": 8,
   "id": "966f72aa-6ae7-404a-9e5c-574d50472af2",
   "metadata": {},
   "outputs": [
    {
     "data": {
      "text/plain": [
       "False"
      ]
     },
     "execution_count": 8,
     "metadata": {},
     "output_type": "execute_result"
    }
   ],
   "source": [
    "l = [1,2]\n",
    "check_palindrome(l)"
   ]
  },
  {
   "cell_type": "markdown",
   "id": "d5027756-04e7-473d-bc23-74a2bdc136df",
   "metadata": {},
   "source": [
    "## Middle of the Linked List node."
   ]
  },
  {
   "cell_type": "markdown",
   "id": "d75a64aa-0c25-4037-8f06-58e6f2ed473a",
   "metadata": {},
   "source": [
    "Given the head of a singly linked list, return the middle node of the linked list.\n",
    "If there are two middle nodes, return the second middle node."
   ]
  },
  {
   "cell_type": "markdown",
   "id": "1a21dcbe-a8f0-4fff-8b1b-79abf71169ce",
   "metadata": {},
   "source": [
    "Input: head = [1,2,3,4,5]\n",
    "Output: [3,4,5]\n",
    "Explanation: The middle node of the list is node 3.\n",
    "\n",
    "Input: head = [1,2,3,4,5,6]\r\n",
    "Output: [4,5,6]\r\n",
    "Explanation: Since the list has two middle nodes with values 3 and 4, we return the second one."
   ]
  },
  {
   "cell_type": "code",
   "execution_count": 54,
   "id": "f3e445b2-968b-487e-955d-8ec03740bd77",
   "metadata": {},
   "outputs": [
    {
     "data": {
      "text/plain": [
       "[4, 5, 6]"
      ]
     },
     "execution_count": 54,
     "metadata": {},
     "output_type": "execute_result"
    }
   ],
   "source": [
    "import numpy as np\n",
    "l = [1,2,3,4,5,6]\n",
    "def midOfTheList(l):\n",
    "    med = np.median(l)\n",
    "    if isinstance(med,int):\n",
    "        med1 = med\n",
    "    else:\n",
    "        med1 = int(med.round())\n",
    "    pos = l.index(med1)\n",
    "    return l[pos:]\n",
    "\n",
    "midOfTheList(l)"
   ]
  },
  {
   "cell_type": "code",
   "execution_count": 56,
   "id": "bad47b2b-087f-4569-a902-02d2dd94dd70",
   "metadata": {},
   "outputs": [
    {
     "data": {
      "text/plain": [
       "[3, 4, 5]"
      ]
     },
     "execution_count": 56,
     "metadata": {},
     "output_type": "execute_result"
    }
   ],
   "source": [
    "l = [1,2,3,4,5]\n",
    "midOfTheList(l)"
   ]
  },
  {
   "cell_type": "markdown",
   "id": "fa294e04-1e97-42c8-9f97-50e99d01bd54",
   "metadata": {},
   "source": [
    "## Remove Linked List Elementshead"
   ]
  },
  {
   "cell_type": "markdown",
   "id": "3c798e64-fe6f-4b61-8883-389371c48b20",
   "metadata": {},
   "source": [
    "Given the head of a linked list and an integer val, remove all the nodes of the linked list that has Node.val == val, and return the new head"
   ]
  },
  {
   "cell_type": "markdown",
   "id": "fe4b106c-ff5e-4a61-9617-57ed688a1921",
   "metadata": {},
   "source": [
    "Example 1:\n",
    "Input: head = [1,2,6,3,4,5,6], val = 6\r\n",
    "Output: [1,2,3,4,5]\n",
    "\r\n",
    "Example :\r\n",
    "\r\n",
    "Input: head = [], val = 1\r\n",
    "Output\n",
    ": []\r\n",
    "Examle 3:\r\n",
    "\r\n",
    "Input: head = [7,7,7,7], val = 7\r\n",
    "Output: []"
   ]
  },
  {
   "cell_type": "code",
   "execution_count": 77,
   "id": "3e94eaaa-4b6b-454c-b067-68fea4864182",
   "metadata": {},
   "outputs": [],
   "source": [
    "def removeElement(l, val):\n",
    "    if val in l:\n",
    "        result = [i for i in l if i != val]\n",
    "    else:\n",
    "        result = l\n",
    "    return result"
   ]
  },
  {
   "cell_type": "code",
   "execution_count": 79,
   "id": "a268fcdf-b3f2-47a2-b9b6-39d10f5f1c91",
   "metadata": {},
   "outputs": [
    {
     "name": "stdout",
     "output_type": "stream",
     "text": [
      "[1, 2, 3, 4, 5]\n"
     ]
    }
   ],
   "source": [
    "l = [1,2,6,3,4,5,6]\n",
    "val = 6\n",
    "print(removeElement(l, val))"
   ]
  },
  {
   "cell_type": "code",
   "execution_count": 81,
   "id": "aa02276d-f213-4118-87ee-17fac89ffeb9",
   "metadata": {},
   "outputs": [
    {
     "name": "stdout",
     "output_type": "stream",
     "text": [
      "[]\n"
     ]
    }
   ],
   "source": [
    "l = []\n",
    "val = 1\n",
    "print(removeElement(l, val))"
   ]
  },
  {
   "cell_type": "code",
   "execution_count": 83,
   "id": "2233f66b-7db1-414c-8203-b66913d93796",
   "metadata": {},
   "outputs": [
    {
     "name": "stdout",
     "output_type": "stream",
     "text": [
      "[]\n"
     ]
    }
   ],
   "source": [
    "l = [7,7,7,7]\n",
    "val = 7\n",
    "print(removeElement(l, val))"
   ]
  },
  {
   "cell_type": "markdown",
   "id": "ad4156b4-6556-49eb-8ec3-728696f63a24",
   "metadata": {},
   "source": [
    "## Remove Duplicates from Sorted Listell."
   ]
  },
  {
   "cell_type": "markdown",
   "id": "bf7a6eec-ae7a-46bc-bade-199bf1e84a55",
   "metadata": {},
   "source": [
    "Given the head of a sorted linked list, delete all duplicates such that each element appears only once. Return the linked list sorted as well."
   ]
  },
  {
   "cell_type": "markdown",
   "id": "8fff1a25-589a-4aa1-a1dd-44f28cae48aa",
   "metadata": {},
   "source": [
    "Input: head = [1,1,2]\n",
    "Output: [1,2]\n",
    "\n",
    "Input: head = [1,1,2,3,3]\n",
    "Output: [1,2,3]"
   ]
  },
  {
   "cell_type": "code",
   "execution_count": 93,
   "id": "3ac52e28-d29d-4fe6-a4e7-fbc9166e09e7",
   "metadata": {},
   "outputs": [
    {
     "data": {
      "text/plain": [
       "[1, 2, 3]"
      ]
     },
     "execution_count": 93,
     "metadata": {},
     "output_type": "execute_result"
    }
   ],
   "source": [
    "def removeDuplicate(l):\n",
    "    return list(set(l))\n",
    "l= [1,1,2,3,3]\n",
    "removeDuplicate(l)"
   ]
  },
  {
   "cell_type": "code",
   "execution_count": 95,
   "id": "5879d1d0-c451-4856-b529-d4a4b143ce93",
   "metadata": {},
   "outputs": [
    {
     "data": {
      "text/plain": [
       "[1, 2]"
      ]
     },
     "execution_count": 95,
     "metadata": {},
     "output_type": "execute_result"
    }
   ],
   "source": [
    "l= [1,1,2]\n",
    "removeDuplicate(l)"
   ]
  },
  {
   "cell_type": "markdown",
   "id": "abaddc7e-06c1-449d-9c4d-628bfea7d4c7",
   "metadata": {},
   "source": [
    "# Delete Node in a Linked List"
   ]
  },
  {
   "cell_type": "markdown",
   "id": "6e37c9f9-f1b4-436a-922a-3441e1b8d8eb",
   "metadata": {},
   "source": [
    "Input: head = [4,5,1,9], node = 5\n",
    "Output: [4,1,9]\n",
    "Explanation: You are given the second node with value 5, the linked list should become 4 -> 1 -> 9 after calling your function.\n",
    "\n",
    "\n",
    "Input: head = [4,5,1,9], node = 1\r\n",
    "Output: [4,5,9]\r\n",
    "Explanation: You are given the third node with value 1, the linked list should become 4 -> 5 -> 9 after calling your function."
   ]
  },
  {
   "cell_type": "code",
   "execution_count": 98,
   "id": "c06edaca-0ea0-444c-9ed4-aa4afd0f4273",
   "metadata": {},
   "outputs": [
    {
     "data": {
      "text/plain": [
       "[4, 1, 9]"
      ]
     },
     "execution_count": 98,
     "metadata": {},
     "output_type": "execute_result"
    }
   ],
   "source": [
    "l= [4,5,1,9]\n",
    "node = 5\n",
    "removeElement(l, node)"
   ]
  },
  {
   "cell_type": "code",
   "execution_count": 100,
   "id": "2ed457a9-90ee-4c0e-9902-8f8bb77e48a7",
   "metadata": {},
   "outputs": [
    {
     "data": {
      "text/plain": [
       "[4, 5, 9]"
      ]
     },
     "execution_count": 100,
     "metadata": {},
     "output_type": "execute_result"
    }
   ],
   "source": [
    "l= [4,5,1,9]\n",
    "node = 1\n",
    "removeElement(l, node)"
   ]
  },
  {
   "cell_type": "markdown",
   "id": "ed7bff2e-73ae-46bf-8e7b-30067598ba62",
   "metadata": {},
   "source": [
    "## Intersection of Two Arrays IIder."
   ]
  },
  {
   "cell_type": "markdown",
   "id": "18e771a3-e1ce-4ed8-b367-df6e4be4257d",
   "metadata": {},
   "source": [
    "Given two integer arrays nums1 and nums2, return an array of their intersection. Each element in the result must appear as many times as it shows in both arrays and you may return the result in any order."
   ]
  },
  {
   "cell_type": "markdown",
   "id": "fe08b196-6fb6-482c-a6bf-cd022c365632",
   "metadata": {},
   "source": [
    "Example 1:\n",
    "\r\n",
    "Input: nums1 = [1,2,2,1], nums2 = [2,2]\r\n",
    "Output: [2\n",
    ",2]\r\n",
    "Exampl 2:\r\n",
    "\r\n",
    "Input: nums1 = [4,9,5], nums2 = [9,4,9,8,4]\r\n",
    "Output: [4,9]\r\n",
    "Explanation: [9,4] is also accepted."
   ]
  },
  {
   "cell_type": "code",
   "execution_count": 4,
   "id": "75fcec46-c2d0-4a3c-8adf-7b33f576e86d",
   "metadata": {},
   "outputs": [],
   "source": [
    "def intersectionArray(l1,l2):\n",
    "    l3 = [i for i in l1 if i in l2]\n",
    "    return l3"
   ]
  },
  {
   "cell_type": "code",
   "execution_count": 6,
   "id": "77b1fedd-034c-4af9-a8ac-b861b78fedf4",
   "metadata": {},
   "outputs": [
    {
     "data": {
      "text/plain": [
       "[2, 2]"
      ]
     },
     "execution_count": 6,
     "metadata": {},
     "output_type": "execute_result"
    }
   ],
   "source": [
    "l1 = [1,2,2,1]\n",
    "l2 = [2,2]\n",
    "intersectionArray(l1,l2)"
   ]
  },
  {
   "cell_type": "code",
   "execution_count": 8,
   "id": "3d69aaa9-d2ad-459d-87a5-f05ebf9455bd",
   "metadata": {},
   "outputs": [
    {
     "data": {
      "text/plain": [
       "[4, 9]"
      ]
     },
     "execution_count": 8,
     "metadata": {},
     "output_type": "execute_result"
    }
   ],
   "source": [
    "l1 = [4,9,5]\n",
    "l2 = [9,4,9,8,4]\n",
    "intersectionArray(l1,l2)"
   ]
  },
  {
   "cell_type": "markdown",
   "id": "3a9e73c8-f8c2-44de-ab85-c71a3899815d",
   "metadata": {},
   "source": [
    "## Valid Palindrome II it."
   ]
  },
  {
   "cell_type": "markdown",
   "id": "c32b598d-e1d2-403a-a0c3-2d0af64a54b1",
   "metadata": {},
   "source": [
    "Given a string s, return true if the s can be palindrome after deleting at most one character from it."
   ]
  },
  {
   "cell_type": "markdown",
   "id": "c03254d9-baa3-40d4-b70f-b94b5def0af1",
   "metadata": {},
   "source": [
    "Example 1:\n",
    "Input: s = \"aba\"\n",
    "Output: true\n",
    "\n",
    "Example 2:\n",
    "Input: s = \"abca\"\n",
    "Output: true\n",
    "Explanation: You could delete the character 'c'.\n",
    "\n",
    "Example 3:\n",
    "Input: s = \"abc\"\n",
    "Output: false"
   ]
  },
  {
   "cell_type": "code",
   "execution_count": 13,
   "id": "733d550b-3c83-4f0a-9dc4-4aee63fdf578",
   "metadata": {},
   "outputs": [],
   "source": [
    "def palindromCheck(text):\n",
    "    return True if text==text[::-1] else False"
   ]
  },
  {
   "cell_type": "code",
   "execution_count": 15,
   "id": "14ce5a78-e4c4-489b-8abe-3856936a8539",
   "metadata": {},
   "outputs": [
    {
     "data": {
      "text/plain": [
       "True"
      ]
     },
     "execution_count": 15,
     "metadata": {},
     "output_type": "execute_result"
    }
   ],
   "source": [
    "text = \"aba\"\n",
    "palindromCheck(text)"
   ]
  },
  {
   "cell_type": "code",
   "execution_count": 17,
   "id": "254b6a4d-213a-4e32-a47f-725ca3df550f",
   "metadata": {},
   "outputs": [
    {
     "data": {
      "text/plain": [
       "False"
      ]
     },
     "execution_count": 17,
     "metadata": {},
     "output_type": "execute_result"
    }
   ],
   "source": [
    "text = \"abca\"\n",
    "palindromCheck(text)"
   ]
  },
  {
   "cell_type": "markdown",
   "id": "eb8fa521-5269-4913-a893-fa121f93af45",
   "metadata": {},
   "source": [
    "# Valid Anagram"
   ]
  },
  {
   "cell_type": "markdown",
   "id": "d4432eec-2ec8-4d2d-9f87-6f6801e19a75",
   "metadata": {},
   "source": [
    "Given two strings s and t, return true if t is an anagram of s, and false otherwise."
   ]
  },
  {
   "cell_type": "markdown",
   "id": "87200197-3e1f-49ae-8d7f-22b786a2e96b",
   "metadata": {},
   "source": [
    "Example 1:\n",
    "Input: s = \"anagram\", t = \"nagaram\"\n",
    "Output: true\n",
    "\n",
    "Example 2:\n",
    "Input: s = \"rat\", t = \"car\"\n",
    "Output: false"
   ]
  },
  {
   "cell_type": "code",
   "execution_count": 29,
   "id": "ee6f5a59-dafa-432a-b628-44b7af7d1e01",
   "metadata": {},
   "outputs": [],
   "source": [
    "def validAnagram(str1,str2):\n",
    "    s = list(set([i for i in str1]))\n",
    "    t = list(set([i for i in str2]))\n",
    "    return True if s == t else False"
   ]
  },
  {
   "cell_type": "code",
   "execution_count": 31,
   "id": "f7e563f7-7460-4a89-8975-8941fae80a66",
   "metadata": {},
   "outputs": [
    {
     "data": {
      "text/plain": [
       "True"
      ]
     },
     "execution_count": 31,
     "metadata": {},
     "output_type": "execute_result"
    }
   ],
   "source": [
    "s = \"anagram\"\n",
    "t = \"nagaram\"\n",
    "validAnagram(s,t)"
   ]
  },
  {
   "cell_type": "code",
   "execution_count": 33,
   "id": "8a994656-dff5-46b8-bf1b-88c5e0578911",
   "metadata": {},
   "outputs": [
    {
     "data": {
      "text/plain": [
       "False"
      ]
     },
     "execution_count": 33,
     "metadata": {},
     "output_type": "execute_result"
    }
   ],
   "source": [
    "s = \"rat\"\n",
    "t = \"car\"\n",
    "validAnagram(s,t)"
   ]
  },
  {
   "cell_type": "markdown",
   "id": "bbef3917-fe37-48f0-b000-0230b9412768",
   "metadata": {},
   "source": [
    "## Add Binary"
   ]
  },
  {
   "cell_type": "markdown",
   "id": "9ab77951-3c98-4356-a8ed-f5a9db43b0bd",
   "metadata": {},
   "source": [
    "Given two binary strings a and b, return their sum as a binary string.\n",
    "\n",
    "Example 1:\n",
    "Input: a = \"11\", b = \"1\"\n",
    "Output: \"100\"\n",
    "\n",
    "Example 2:\n",
    "Input: a = \"1010\", b = \"1011\"\n",
    "Output: \"10101\""
   ]
  },
  {
   "cell_type": "code",
   "execution_count": 42,
   "id": "f4c99b4c-4b4c-4497-a5ad-6200e0adf026",
   "metadata": {},
   "outputs": [],
   "source": [
    "def addBinary(s1,s2):\n",
    "    return int(s1)+int(s2)"
   ]
  },
  {
   "cell_type": "code",
   "execution_count": 46,
   "id": "2adb0e48-3a5e-4889-ba63-fc2ccd1999ba",
   "metadata": {},
   "outputs": [
    {
     "data": {
      "text/plain": [
       "12"
      ]
     },
     "execution_count": 46,
     "metadata": {},
     "output_type": "execute_result"
    }
   ],
   "source": [
    "a = \"11\"\n",
    "b = \"1\"\n",
    "addBinary(a,b)"
   ]
  },
  {
   "cell_type": "code",
   "execution_count": 52,
   "id": "2b96f37a-5f00-464a-881e-cfd56272b3d9",
   "metadata": {},
   "outputs": [
    {
     "data": {
      "text/plain": [
       "12"
      ]
     },
     "execution_count": 52,
     "metadata": {},
     "output_type": "execute_result"
    }
   ],
   "source": [
    "import numpy as np\n",
    "def addBinary(s1,s2):\n",
    "    return sum([int(s1),int(s2)])\n",
    "\n",
    "a = \"11\"\n",
    "b = \"1\"\n",
    "addBinary(a,b)"
   ]
  },
  {
   "cell_type": "markdown",
   "id": "071fa38a-fcfd-4757-81b7-a78305d6582c",
   "metadata": {},
   "source": [
    "## Island Perimeter island."
   ]
  },
  {
   "cell_type": "markdown",
   "id": "4a109fb1-727d-42ca-9545-8c9aaa94aed0",
   "metadata": {},
   "source": [
    "You are given row x col grid representing a map where grid[i][j] = 1 represents land and grid[i][j] = 0 represents water.\n",
    "Grid cells are connected horizontally/vertically (not diagonally). The grid is completely surrounded by water, and there is exactly one island (i.e., one or more connected land cells).\n",
    "The island doesn't have \"lakes\", meaning the water inside isn't connected to the water around the island. One cell is a square with side length 1. The grid is rectangular, width and height don't exceed 100. Determine the perimeter of the island."
   ]
  },
  {
   "cell_type": "markdown",
   "id": "bf158d53-7133-421d-91f4-8e7a18a0eda8",
   "metadata": {},
   "source": [
    "Example: 1\n",
    "Input: grid = [[0,1,0,0],[1,1,1,0],[0,1,0,0],[1,1,0,0]]\r\n",
    "Output: 16\r\n",
    "Explanation: The perimeter is the 16 yellow stripes in the image above\n",
    ".\r\n",
    "Example2:\r\n",
    "\r\n",
    "Input: grid = [[1]]\r\n",
    "Outp\n",
    "ut: 4\r\n",
    "Exaple 3:\r\n",
    "\r\n",
    "Input: grid = [[1,0]]\r\n",
    "Output: 4"
   ]
  },
  {
   "cell_type": "code",
   "execution_count": 72,
   "id": "5a28c4ed-3c3c-4c3b-b219-271b2202d019",
   "metadata": {},
   "outputs": [],
   "source": [
    "def islandPerimeter(grid):\n",
    "    perimeter = 0\n",
    "    rows = len(grid)\n",
    "    cols = len(grid[0])\n",
    "\n",
    "    for i in range(rows):\n",
    "        for j in range(cols):\n",
    "            if grid[i][j] == 1:\n",
    "                perimeter += 4\n",
    "                if i > 0 and grid[i-1][j] == 1:\n",
    "                    perimeter -= 1\n",
    "                if i < rows - 1 and grid[i+1][j] == 1:\n",
    "                    perimeter -= 1\n",
    "                if j > 0 and grid[i][j-1] == 1:\n",
    "                    perimeter -= 1\n",
    "                if j < cols - 1 and grid[i][j+1] == 1:\n",
    "                    perimeter -= 1\n",
    "\n",
    "    return perimeter"
   ]
  },
  {
   "cell_type": "code",
   "execution_count": 74,
   "id": "a79a95bb-6863-4f4a-b975-19352fe285ff",
   "metadata": {},
   "outputs": [
    {
     "data": {
      "text/plain": [
       "16"
      ]
     },
     "execution_count": 74,
     "metadata": {},
     "output_type": "execute_result"
    }
   ],
   "source": [
    "l = [[0,1,0,0],[1,1,1,0],[0,1,0,0],[1,1,0,0]]\n",
    "islandPerimeter(l)"
   ]
  },
  {
   "cell_type": "code",
   "execution_count": 76,
   "id": "ef5735e0-8629-42ab-868e-9568ba117f17",
   "metadata": {},
   "outputs": [
    {
     "data": {
      "text/plain": [
       "4"
      ]
     },
     "execution_count": 76,
     "metadata": {},
     "output_type": "execute_result"
    }
   ],
   "source": [
    "l = [[1,0]]\n",
    "islandPerimeter(l)"
   ]
  },
  {
   "cell_type": "markdown",
   "id": "ce6fdd6b-5426-43d3-8fb9-f2247ebb8907",
   "metadata": {},
   "source": [
    "## Squares of a Sorted Array\n",
    "Given an integer array nums sorted in non-decreasing order, return an array of the squares of each number sorted in non-decreasing order."
   ]
  },
  {
   "cell_type": "markdown",
   "id": "659fea74-95b2-4472-9e1d-63fe43cac10b",
   "metadata": {},
   "source": [
    "Example 1:\n",
    "\r\n",
    "Input: nums = [-4,-1,0,3,10]\r\n",
    "Output: [0,1,9,16,100]\r\n",
    "Explanation: After squaring, the array becomes [16,1,0,9,100].\r\n",
    "After sorting, it becomes [0,1,9,16,\n",
    "100].\r\n",
    "Example 2:\r\n",
    "\r\n",
    "Input: nums = [-7,-3,2,3,11]\r\n",
    "Output: [4,9,9,49,121]"
   ]
  },
  {
   "cell_type": "code",
   "execution_count": 107,
   "id": "b929acfa-2136-4828-bffa-f6c318b80ee3",
   "metadata": {},
   "outputs": [],
   "source": [
    "def sqaureSortedArray(l):\n",
    "    return sorted([i**2 for i in l])"
   ]
  },
  {
   "cell_type": "code",
   "execution_count": 109,
   "id": "2793b778-ff36-46a0-8427-3c1260cced0c",
   "metadata": {},
   "outputs": [
    {
     "data": {
      "text/plain": [
       "[0, 1, 9, 16, 100]"
      ]
     },
     "execution_count": 109,
     "metadata": {},
     "output_type": "execute_result"
    }
   ],
   "source": [
    "l = [-4,-1,0,3,10]\n",
    "sqaureSortedArray(l)"
   ]
  },
  {
   "cell_type": "code",
   "execution_count": 111,
   "id": "147b04f1-1120-46f1-9519-32a9fab89efc",
   "metadata": {},
   "outputs": [
    {
     "data": {
      "text/plain": [
       "[4, 9, 9, 49, 121]"
      ]
     },
     "execution_count": 111,
     "metadata": {},
     "output_type": "execute_result"
    }
   ],
   "source": [
    "l = [-7,-3,2,3,11]\n",
    "sqaureSortedArray(l)"
   ]
  },
  {
   "cell_type": "markdown",
   "id": "955b7489-15ac-47e3-b161-a065ab034420",
   "metadata": {},
   "source": [
    "## First Unique Character in a String\n",
    "\n",
    "Given a string s, find the first non-repeating character in it and return its index. If it does not exist, return -1."
   ]
  },
  {
   "cell_type": "markdown",
   "id": "e02c2aa5-f14f-40c6-a4df-d222ebd6f8a1",
   "metadata": {},
   "source": [
    "Example 1:\n",
    "\n",
    "Input: s = \"leetcode\"\n",
    "Output: 0\n",
    "Explanation: The character 'l' at index 0 is the first character that does not occur at any other index.\n",
    "\n",
    "Example 2:\n",
    "Input: s = \"loveleetcode\"\n",
    "Output: 2\n",
    "\n",
    "Example 3:\n",
    "Input: s = \"aabb\"\n",
    "Output: -1"
   ]
  },
  {
   "cell_type": "code",
   "execution_count": 162,
   "id": "66f1c5b1-984f-4600-b427-6ab52ae33b78",
   "metadata": {},
   "outputs": [],
   "source": [
    "def uniqCharIndex(s):\n",
    "    l = [i for i in s]\n",
    "    result = -1\n",
    "    for i in l:\n",
    "        if l.count(i) == 1:\n",
    "            result = l.index(i)\n",
    "            break\n",
    "    return result"
   ]
  },
  {
   "cell_type": "code",
   "execution_count": 164,
   "id": "053f92e6-1349-4319-9ee4-203ed5a6ec79",
   "metadata": {},
   "outputs": [
    {
     "data": {
      "text/plain": [
       "0"
      ]
     },
     "execution_count": 164,
     "metadata": {},
     "output_type": "execute_result"
    }
   ],
   "source": [
    "s = \"leetcode\"\n",
    "uniqCharIndex(s)"
   ]
  },
  {
   "cell_type": "code",
   "execution_count": 166,
   "id": "980a75d2-3dfa-4d63-bb30-bc2c1e102a5f",
   "metadata": {},
   "outputs": [
    {
     "data": {
      "text/plain": [
       "2"
      ]
     },
     "execution_count": 166,
     "metadata": {},
     "output_type": "execute_result"
    }
   ],
   "source": [
    "s = \"loveleetcode\"\n",
    "uniqCharIndex(s)"
   ]
  },
  {
   "cell_type": "code",
   "execution_count": 168,
   "id": "47d83420-c016-4ae1-96e3-497c54197980",
   "metadata": {},
   "outputs": [
    {
     "data": {
      "text/plain": [
       "-1"
      ]
     },
     "execution_count": 168,
     "metadata": {},
     "output_type": "execute_result"
    }
   ],
   "source": [
    "s = \"aabb\"\n",
    "uniqCharIndex(s)"
   ]
  },
  {
   "cell_type": "markdown",
   "id": "4d6d34ed-1d1e-4cd7-9627-368ed1a91f6b",
   "metadata": {},
   "source": [
    "## Two Sum II - Input Array Is Sorted\n",
    "Given a 1-indexed array of integers numbers that is already sorted in non-decreasing order, find two numbers such that they add up to a specific target number. Let these two numbers be numbers[index1] and numbers[index2] where 1 <= index1 < index2 <= numbers.length.\n",
    "\n",
    "Return the indices of the two numbers, index1 and index2, added by one as an integer array [index1, index2] of length 2.\n",
    "\n",
    "The tests are generated such that there is exactly one solution. You may not use the same element twice.\n",
    "\n",
    "Your solution must use only constant extra space."
   ]
  },
  {
   "cell_type": "markdown",
   "id": "3a34bf48-706e-4533-81d9-dd5e21ef71bc",
   "metadata": {},
   "source": [
    "Example 1:\n",
    "Input: numbers = [2,7,11,15], target = 9\n",
    "Output: [1,2]\n",
    "Explanation: The sum of 2 and 7 is 9. Therefore, index1 = 1, index2 = 2. We return [1, 2].\n",
    "\n",
    "Example 2:\n",
    "Input: numbers = [2,3,4], target = 6\n",
    "Output: [1,3]\n",
    "Explanation: The sum of 2 and 4 is 6. Therefore index1 = 1, index2 = 3. We return [1, 3].\n",
    "\n",
    "Example 3:\n",
    "Input: numbers = [-1,0], target = -1\n",
    "Output: [1,2]\n",
    "Explanation: The sum of -1 and 0 is -1. Therefore index1 = 1, index2 = 2. We return [1, 2]."
   ]
  },
  {
   "cell_type": "code",
   "execution_count": 201,
   "id": "3f88b41b-5020-4201-a606-71799cd2f75a",
   "metadata": {},
   "outputs": [],
   "source": [
    "def sumArray(l,target):\n",
    "    for i in range(len(l)):\n",
    "        for j in range(i,len(l)):\n",
    "            if i != j and l[i]+l[j]==target:\n",
    "                print(list([(l.index(l[i])+1),(l.index(l[j])+1)]))\n",
    "                break"
   ]
  },
  {
   "cell_type": "code",
   "execution_count": 203,
   "id": "db843cda-529f-40f0-9cda-8c295083c99c",
   "metadata": {},
   "outputs": [
    {
     "name": "stdout",
     "output_type": "stream",
     "text": [
      "[1, 2]\n"
     ]
    }
   ],
   "source": [
    "numbers = [2,7,11,15]\n",
    "target = 9\n",
    "sumArray(numbers,target)"
   ]
  },
  {
   "cell_type": "code",
   "execution_count": 205,
   "id": "44694888-8e3f-4812-833b-4293384d966d",
   "metadata": {},
   "outputs": [
    {
     "name": "stdout",
     "output_type": "stream",
     "text": [
      "[1, 3]\n"
     ]
    }
   ],
   "source": [
    "numbers = [2,3,4]\n",
    "target = 6\n",
    "sumArray(numbers,target)"
   ]
  },
  {
   "cell_type": "code",
   "execution_count": 207,
   "id": "8aa13b7f-98fa-4c8a-b7b3-008fa15b361f",
   "metadata": {},
   "outputs": [
    {
     "name": "stdout",
     "output_type": "stream",
     "text": [
      "[1, 2]\n"
     ]
    }
   ],
   "source": [
    "numbers = [-1,0]\n",
    "target = -1\n",
    "sumArray(numbers,target)"
   ]
  },
  {
   "cell_type": "markdown",
   "id": "96dfb29a-2d52-450e-852e-535bec7c7603",
   "metadata": {},
   "source": [
    "## Happy Numberies\r\n",
    "Write an algorithm to determine if a number n is happy.\r\n",
    "\r\n",
    "A happy number is a number defined by the following process:\r\n",
    "\r\n",
    "Starting with any positive integer, replace the number by the sum of the squares of its digits.\r\n",
    "Repeat the process until the number equals 1 (where it will stay), or it loops endlessly in a cycle which does not include 1.\r\n",
    "Those numbers for which this process ends in 1 are happy.\r\n",
    "Return true if n is a happy number, and false if not."
   ]
  },
  {
   "cell_type": "markdown",
   "id": "e5ebfde3-c0b2-4f4a-afa3-c61c4d533314",
   "metadata": {},
   "source": [
    "Example 1:\n",
    "\r\n",
    "Input: n = 19\r\n",
    "Output: true\r\n",
    "Explanatio^2:\r\n",
    "1^2 + 92 =^ 82\r\n",
    "^82 + 22 ^= 68\r",
    "^\n",
    "62 + 82 ^= 100^\r\n",
    "12 + 02 +\n",
    " 02 = 1\r\n",
    "Eample 2:\r\n",
    "\r\n",
    "Input: n = 2\r\n",
    "Output: false"
   ]
  },
  {
   "cell_type": "code",
   "execution_count": 218,
   "id": "6c17b4f4-1c95-4d06-8133-6a00babcbebf",
   "metadata": {},
   "outputs": [],
   "source": [
    "def is_happy(n):\n",
    "    seen = set()\n",
    "    \n",
    "    while n != 1:\n",
    "        # Calculate the sum of squares of digits\n",
    "        n = sum(int(digit) ** 2 for digit in str(n))\n",
    "        \n",
    "        # Check if we've seen this number before\n",
    "        if n in seen:\n",
    "            return False\n",
    "        seen.add(n)\n",
    "    \n",
    "    return True"
   ]
  },
  {
   "cell_type": "code",
   "execution_count": 220,
   "id": "401a053e-21a6-4d53-9ca6-36e052e89853",
   "metadata": {},
   "outputs": [
    {
     "data": {
      "text/plain": [
       "True"
      ]
     },
     "execution_count": 220,
     "metadata": {},
     "output_type": "execute_result"
    }
   ],
   "source": [
    "is_happy(19)"
   ]
  },
  {
   "cell_type": "code",
   "execution_count": 222,
   "id": "ffff36f6-89bd-4646-b524-f4b763e8c0af",
   "metadata": {},
   "outputs": [
    {
     "data": {
      "text/plain": [
       "False"
      ]
     },
     "execution_count": 222,
     "metadata": {},
     "output_type": "execute_result"
    }
   ],
   "source": [
    "is_happy(2)"
   ]
  },
  {
   "cell_type": "markdown",
   "id": "4a84f11a-ca73-4fe8-a4e3-821034dc50df",
   "metadata": {},
   "source": [
    "## Pascal's Triangle\n",
    "\n",
    "\n",
    "es\r\n",
    "Given an integer numRows, return the first numRows of Pascal's trianl\n",
    "e.\r\n",
    "\r\n",
    "In Pascal's triangle, each number is the sum of the two numbers directly above it as shown:"
   ]
  },
  {
   "cell_type": "code",
   "execution_count": 269,
   "id": "97f622ab-3aa1-4f6e-ae43-c0b07df69827",
   "metadata": {},
   "outputs": [
    {
     "name": "stdout",
     "output_type": "stream",
     "text": [
      "[[1], [1, 1], [1, 2, 1], [1, 3, 3, 1], [1, 4, 6, 4, 1]]\n"
     ]
    }
   ],
   "source": [
    "def generate_pascals_triangle(numRows):\n",
    "    triangle = []\n",
    "    for i in range(numRows):\n",
    "        # Start with a row of all 1's\n",
    "        row = [1] * (i + 1)\n",
    "        # Calculate the intermediate values if the row has more than 2 elements\n",
    "        for j in range(1, i):\n",
    "            row[j] = triangle[i - 1][j - 1] + triangle[i - 1][j]\n",
    "        # Add the row to the triangle\n",
    "        triangle.append(row)\n",
    "    \n",
    "    return triangle\n",
    "numRows = 5\n",
    "result = generate_pascals_triangle(numRows)\n",
    "print(result)"
   ]
  },
  {
   "cell_type": "code",
   "execution_count": 257,
   "id": "202fb41e-9e72-4026-8e60-ac06d3d46f07",
   "metadata": {},
   "outputs": [
    {
     "name": "stdout",
     "output_type": "stream",
     "text": [
      "1\n",
      "2\n",
      "3\n"
     ]
    }
   ],
   "source": [
    "for j in range(1,4):\n",
    "    print(j)"
   ]
  },
  {
   "cell_type": "markdown",
   "id": "b505db87-75e1-4c37-9e6e-502610f91d61",
   "metadata": {},
   "source": [
    "## Missing Number\n",
    "\n",
    "es\r\n",
    "Given an array nums containing n distinct numbers in the range [0, n], return the only number in the range that is missing from the array."
   ]
  },
  {
   "cell_type": "markdown",
   "id": "55f41d9c-4bbc-44cf-929e-3f68c199af36",
   "metadata": {},
   "source": [
    "Example 1:\n",
    "Input: nums = [3,0,1]\n",
    "Output: 2\n",
    "Explanation: n = 3 since there are 3 numbers, so all numbers are in the range [0,3]. 2 is the missing number in the range since it does not appear in nums.\n",
    "\n",
    "Example 2:\n",
    "Input: nums = [0,1]\n",
    "Output: 2\n",
    "Explanation: n = 2 since there are 2 numbers, so all numbers are in the range [0,2]. 2 is the missing number in the range since it does not appear in nums.\n",
    "\n",
    "Example 3:\n",
    "Input: nums = [9,6,4,2,3,5,7,0,1]\n",
    "Output: 8\n",
    "Explanation: n = 9 since there are 9 numbers, so all numbers are in the range [0,9]. 8 is the missing number in the range since it does not appear in nums."
   ]
  },
  {
   "cell_type": "code",
   "execution_count": 274,
   "id": "f6d20099-3225-4284-adcd-0c9f13d8f093",
   "metadata": {},
   "outputs": [],
   "source": [
    "def missingNumber(l):\n",
    "    for i in range(len(l)+1):\n",
    "        if i not in l:\n",
    "            print(i)"
   ]
  },
  {
   "cell_type": "code",
   "execution_count": 278,
   "id": "edeb43bd-2543-46e9-9e79-4785d4f5f1c5",
   "metadata": {},
   "outputs": [
    {
     "name": "stdout",
     "output_type": "stream",
     "text": [
      "2\n"
     ]
    }
   ],
   "source": [
    "nums = [3,0,1]\n",
    "missingNumber(nums)"
   ]
  },
  {
   "cell_type": "code",
   "execution_count": 280,
   "id": "bb902212-4267-4161-b476-b9daede51c03",
   "metadata": {},
   "outputs": [
    {
     "name": "stdout",
     "output_type": "stream",
     "text": [
      "2\n"
     ]
    }
   ],
   "source": [
    "nums = [0,1]\n",
    "missingNumber(nums)"
   ]
  },
  {
   "cell_type": "code",
   "execution_count": 282,
   "id": "a147112e-4013-4ded-b332-e26ec1278f04",
   "metadata": {},
   "outputs": [
    {
     "name": "stdout",
     "output_type": "stream",
     "text": [
      "8\n"
     ]
    }
   ],
   "source": [
    "nums = [9,6,4,2,3,5,7,0,1]\n",
    "missingNumber(nums)"
   ]
  },
  {
   "cell_type": "markdown",
   "id": "9bf209c1-6a91-49ef-aa6e-64db117ee294",
   "metadata": {},
   "source": [
    "## Counting Bits\n",
    "\n",
    "Given an integer n, return an array ans of length n + 1 such that for each i (0 <= i <= n), ans[i] is the number of 1's in the binary representation of i."
   ]
  },
  {
   "cell_type": "markdown",
   "id": "f1261793-1ea7-4be3-a978-fda582f6743f",
   "metadata": {},
   "source": [
    "Example 1:\n",
    "\n",
    "Input: n = 2\n",
    "Output: [0,1,1]\n",
    "Explanation:\n",
    "0 --> 0\n",
    "1 --> 1\n",
    "2 --> 10\n",
    "Example 2:\n",
    "\n",
    "Input: n = 5\n",
    "Output: [0,1,1,2,1,2]\n",
    "Explanation:\n",
    "0 --> 0\n",
    "1 --> 1\n",
    "2 --> 10\n",
    "3 --> 11\n",
    "4 --> 100\n",
    "5 --> 101"
   ]
  },
  {
   "cell_type": "code",
   "execution_count": 347,
   "id": "c904fe31-213b-48f9-b90e-15371321db19",
   "metadata": {},
   "outputs": [],
   "source": [
    "def countBits(n):\n",
    "    output_list = []\n",
    "    for i in range(n+1):\n",
    "        bin_val = [i for i in bin(i)[2:]]\n",
    "        one_count = bin_val.count('1') \n",
    "        output_list.append(one_count)\n",
    "            \n",
    "    return output_list"
   ]
  },
  {
   "cell_type": "code",
   "execution_count": 349,
   "id": "ab57895f-9ecb-40ac-9fa3-27489b9a2d78",
   "metadata": {},
   "outputs": [
    {
     "data": {
      "text/plain": [
       "[0, 1, 1, 2, 1, 2]"
      ]
     },
     "execution_count": 349,
     "metadata": {},
     "output_type": "execute_result"
    }
   ],
   "source": [
    "countBits(5)"
   ]
  },
  {
   "cell_type": "code",
   "execution_count": 351,
   "id": "af372543-63cf-4452-9974-5ea012b24656",
   "metadata": {},
   "outputs": [
    {
     "data": {
      "text/plain": [
       "[0, 1, 1]"
      ]
     },
     "execution_count": 351,
     "metadata": {},
     "output_type": "execute_result"
    }
   ],
   "source": [
    "countBits(2)"
   ]
  },
  {
   "cell_type": "markdown",
   "id": "00205a63-fc45-4a78-a9ac-9a2f10892877",
   "metadata": {},
   "source": [
    "## Remove Duplicates from Sorted Array\n",
    "\n",
    "Given an integer array nums sorted in non-decreasing order, remove the duplicates in-place such that each unique element appears only once. The relative order of the elements should be kept the same. Then return the number of unique elements in nums.\n",
    "\n",
    "Consider the number of unique elements of nums to be k, to get accepted, you need to do the following things:\n",
    "\n",
    "Change the array nums such that the first k elements of nums contain the unique elements in the order they were present in nums initially. The remaining elements of nums are not important as well as the size of nums.\n",
    "Return k."
   ]
  },
  {
   "cell_type": "markdown",
   "id": "46d2cd87-6d3e-4fbc-b8e4-bd391e539ab1",
   "metadata": {},
   "source": [
    "Example 1:\r\n",
    "\r\n",
    "Input: nums = [1,1,2]\r\n",
    "Output: 2, nums = [1,2,_]\r\n",
    "Explanation: Your function should return k = 2, with the first two elements of nums being 1 and 2 respectively.\r\n",
    "It does not matter what you leave beyond the returned k (hence they are underscores).\r\n",
    "Example 2:\r\n",
    "\r\n",
    "Input: nums = [0,0,1,1,1,2,2,3,3,4]\r\n",
    "Output: 5, nums = [0,1,2,3,4,_,_,_,_,_]\r\n",
    "Explanation: Your function should return k = 5, with the first five elements of nums being 0, 1, 2, 3, and 4 respectively.\r\n",
    "It does not matter what you leave beyond the returned k (hence they are underscores)."
   ]
  },
  {
   "cell_type": "code",
   "execution_count": 377,
   "id": "79223b02-7d6b-4edf-bb26-f2ba6fef419e",
   "metadata": {},
   "outputs": [],
   "source": [
    "def removeDuplicate(l):\n",
    "    uniqList = list(set(sorted(l)))\n",
    "    for i in range(len(uniqList),len(l)):\n",
    "        if l[i] not in uniqList:\n",
    "            uniqList.append(l[i])\n",
    "        else:\n",
    "            uniqList.append('-')\n",
    "    return uniqList"
   ]
  },
  {
   "cell_type": "code",
   "execution_count": 379,
   "id": "8a75dfd2-b615-4d32-bd47-2485c9deae10",
   "metadata": {},
   "outputs": [
    {
     "data": {
      "text/plain": [
       "[1, 2, '-']"
      ]
     },
     "execution_count": 379,
     "metadata": {},
     "output_type": "execute_result"
    }
   ],
   "source": [
    "l = [1,1,2]\n",
    "removeDuplicate(l)"
   ]
  },
  {
   "cell_type": "code",
   "execution_count": 381,
   "id": "59f4222c-873c-4906-a859-c9c095f0e18d",
   "metadata": {},
   "outputs": [
    {
     "data": {
      "text/plain": [
       "[0, 1, 2, 3, 4, '-', '-', '-', '-', '-']"
      ]
     },
     "execution_count": 381,
     "metadata": {},
     "output_type": "execute_result"
    }
   ],
   "source": [
    "l = [0,0,1,1,1,2,2,3,3,4]\n",
    "removeDuplicate(l)"
   ]
  },
  {
   "cell_type": "markdown",
   "id": "32c4a977-7c63-4f15-b9f3-e925834eacc8",
   "metadata": {},
   "source": [
    "## Find All Numbers Disappeared in an Array\n",
    "\n",
    "Given an array nums of n integers where nums[i] is in the range [1, n], return an array of all the integers in the range [1, n] that do not appear in nums."
   ]
  },
  {
   "cell_type": "markdown",
   "id": "1e6a3e71-7cb9-4621-b881-9ac5311ecc81",
   "metadata": {},
   "source": [
    "Example 1:\r\n",
    "\r\n",
    "Input: nums = [4,3,2,7,8,2,3,1]\r\n",
    "Output: [5,6]\r\n",
    "Example 2:\r\n",
    "\r\n",
    "Input: nums = [1,1]\r\n",
    "Output: [2]"
   ]
  },
  {
   "cell_type": "code",
   "execution_count": 390,
   "id": "35e66b7b-bdcf-49fd-b4dd-b1c57d5e2d54",
   "metadata": {},
   "outputs": [],
   "source": [
    "def disappearNum(nums):\n",
    "    output = []\n",
    "    for i in range(1,len(nums)+1):\n",
    "        if i not in nums:\n",
    "            output.append(i)\n",
    "    return output"
   ]
  },
  {
   "cell_type": "code",
   "execution_count": 392,
   "id": "e04a83bb-c8f2-4865-83c2-76cdbf69b4db",
   "metadata": {},
   "outputs": [
    {
     "data": {
      "text/plain": [
       "[5, 6]"
      ]
     },
     "execution_count": 392,
     "metadata": {},
     "output_type": "execute_result"
    }
   ],
   "source": [
    "nums = [4,3,2,7,8,2,3,1]\n",
    "disappearNum(nums)"
   ]
  },
  {
   "cell_type": "code",
   "execution_count": 394,
   "id": "e9b2b9e7-c869-450e-bb29-7eb88c342945",
   "metadata": {},
   "outputs": [
    {
     "data": {
      "text/plain": [
       "[2]"
      ]
     },
     "execution_count": 394,
     "metadata": {},
     "output_type": "execute_result"
    }
   ],
   "source": [
    "nums = [1,1]\n",
    "disappearNum(nums)"
   ]
  },
  {
   "cell_type": "markdown",
   "id": "e20a0865-b90c-47e9-b193-5f96615b0bda",
   "metadata": {},
   "source": [
    "## Search Insert Position\n",
    "Given a sorted array of distinct integers and a target value, return the index if the target is found. If not, return the index where it would be if it were inserted in order.\n",
    "\n",
    "You must write an algorithm with O(log n) runtime complexity."
   ]
  },
  {
   "cell_type": "markdown",
   "id": "9a7139cd-12d7-47ed-9a99-099d861316b9",
   "metadata": {},
   "source": [
    "Example 1:\n",
    "\r\n",
    "Input: nums = [1,3,5,6], target = 5\r\n",
    "Output\n",
    ": 2\r\n",
    "Exampl 2:\r\n",
    "\r\n",
    "Input: nums = [1,3,5,6], target = 2\r\n",
    "Ou\n",
    "tput: 1\r\n",
    "Exmple 3:\r\n",
    "\r\n",
    "Input: nums = [1,3,5,6], target = 7\r\n",
    "Output: 4"
   ]
  },
  {
   "cell_type": "code",
   "execution_count": 455,
   "id": "037ef087-b17c-4732-bcdc-cdd44da4f119",
   "metadata": {},
   "outputs": [],
   "source": [
    "def searchInsertPosition(nums,target):\n",
    "    result = 0\n",
    "    if target in nums:\n",
    "        result = nums.index(target)\n",
    "    else:\n",
    "        nums.append(target)\n",
    "        nums = sorted(nums)\n",
    "        result = nums.index(target)\n",
    "    return result"
   ]
  },
  {
   "cell_type": "code",
   "execution_count": 457,
   "id": "9ef53052-f35e-444c-b219-2101f89e08db",
   "metadata": {},
   "outputs": [
    {
     "data": {
      "text/plain": [
       "2"
      ]
     },
     "execution_count": 457,
     "metadata": {},
     "output_type": "execute_result"
    }
   ],
   "source": [
    "nums = [1,3,5,6]\n",
    "target = 5\n",
    "searchInsertPosition(nums,target)"
   ]
  },
  {
   "cell_type": "code",
   "execution_count": 459,
   "id": "18a22a93-39d6-4248-a81d-963b10e7fabf",
   "metadata": {},
   "outputs": [
    {
     "data": {
      "text/plain": [
       "1"
      ]
     },
     "execution_count": 459,
     "metadata": {},
     "output_type": "execute_result"
    }
   ],
   "source": [
    "nums = [1,3,5,6]\n",
    "target = 2\n",
    "searchInsertPosition(nums,target)"
   ]
  },
  {
   "cell_type": "code",
   "execution_count": 461,
   "id": "cea864ac-b902-48fa-9493-3e5bfbab4eee",
   "metadata": {},
   "outputs": [
    {
     "data": {
      "text/plain": [
       "4"
      ]
     },
     "execution_count": 461,
     "metadata": {},
     "output_type": "execute_result"
    }
   ],
   "source": [
    "nums = [1,3,5,6]\n",
    "target = 7\n",
    "searchInsertPosition(nums,target)"
   ]
  },
  {
   "cell_type": "code",
   "execution_count": 449,
   "id": "eee86eaa-8d78-4568-9e82-53b14d352e55",
   "metadata": {},
   "outputs": [
    {
     "name": "stdout",
     "output_type": "stream",
     "text": [
      "1\n"
     ]
    }
   ],
   "source": [
    "nums = [1,3,5,6]\n",
    "target = 2\n",
    "def if target in nums:\n",
    "    print(nums.index(target))\n",
    "else:\n",
    "    nums.append(target)\n",
    "nums = sorted(nums)\n",
    "print(nums.index(target))"
   ]
  },
  {
   "cell_type": "code",
   "execution_count": null,
   "id": "538fc6e7-4b21-44ac-a292-46e17a6eceee",
   "metadata": {},
   "outputs": [],
   "source": []
  }
 ],
 "metadata": {
  "kernelspec": {
   "display_name": "Python 3 (ipykernel)",
   "language": "python",
   "name": "python3"
  },
  "language_info": {
   "codemirror_mode": {
    "name": "ipython",
    "version": 3
   },
   "file_extension": ".py",
   "mimetype": "text/x-python",
   "name": "python",
   "nbconvert_exporter": "python",
   "pygments_lexer": "ipython3",
   "version": "3.9.19"
  }
 },
 "nbformat": 4,
 "nbformat_minor": 5
}
